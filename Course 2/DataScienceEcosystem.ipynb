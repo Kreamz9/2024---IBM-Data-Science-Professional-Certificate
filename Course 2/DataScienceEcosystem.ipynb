{
 "cells": [
  {
   "cell_type": "markdown",
   "id": "8544657c",
   "metadata": {},
   "source": [
    "# Data Science Tools and Ecosystem"
   ]
  },
  {
   "cell_type": "markdown",
   "id": "10c1ff59",
   "metadata": {},
   "source": [
    "In this notebook, Data Science Tools and Ecosystem are summarized."
   ]
  },
  {
   "cell_type": "markdown",
   "id": "765fb37e",
   "metadata": {},
   "source": [
    "<b>Objectives:</b>\n",
    "<ul>\n",
    "    <li>List of popular languages for Data Science</li>\n",
    "    <li>List of commonly used libraries used by Data Scientist</li>\n",
    "    <li>A table of Data Science Tools</li>\n",
    "    <li>Examples of Evaluating Arithmetic Expressions</li>\n",
    "</ul>"
   ]
  },
  {
   "cell_type": "markdown",
   "id": "f49cf041",
   "metadata": {},
   "source": [
    "Some of the popular languages that Data Scientists use are:\n",
    "<ol>\n",
    "    <li>Python</li>\n",
    "    <li>R</li>\n",
    "    <li>Scala</li>\n",
    "    <li>Java</li>\n",
    "    <li>C++</li>\n",
    "    <li>Julia</li>\n",
    "    <li>JavaScript</li>\n",
    "    <li>php</li>\n",
    "    <li>GO</li>\n",
    "    <li>Ruby</li>\n",
    "</ol>"
   ]
  },
  {
   "cell_type": "markdown",
   "id": "85c3e560",
   "metadata": {},
   "source": [
    "Some of the commonly used libraries used by Data Scientists include:\n",
    "<ol>\n",
    "    <li>Scientific Computing Libraries\n",
    "        <ul>\n",
    "            <li>Pandas</li>\n",
    "            <li>NumPy</li>\n",
    "        </ul>\n",
    "    </li>\n",
    "    <li>Visualisation Libraries\n",
    "        <ul>\n",
    "            <li>Mathplotlib</li>\n",
    "            <li>Seaborn</li>\n",
    "        </ul>\n",
    "    </li>\n",
    "    <li>Machine Learning and Deep Learning Libraries\n",
    "        <ul>\n",
    "            <li>Scikit-learn</li>\n",
    "            <li>Kreas</li>\n",
    "        </ul>\n",
    "    </li>\n",
    "    <li>Deep Learning Libraries\n",
    "        <ul>\n",
    "            <li>TensorFlow</li>\n",
    "            <li>PyTorch</li>\n",
    "        </ul>\n",
    "    </li>\n",
    "</ol>"
   ]
  },
  {
   "cell_type": "markdown",
   "id": "2859c6da",
   "metadata": {},
   "source": [
    "| Data Science Tools |\n",
    "| -------- |\n",
    "| Jupyter Notebooks |\n",
    "| Zeppelin Notebooks |\n",
    "| RStudio |"
   ]
  },
  {
   "cell_type": "markdown",
   "id": "68fd1dc2",
   "metadata": {},
   "source": [
    "### Below are a few examples of evaluating arithmetic expressions in Python"
   ]
  },
  {
   "cell_type": "code",
   "execution_count": 1,
   "id": "ddb43ce3",
   "metadata": {},
   "outputs": [
    {
     "data": {
      "text/plain": [
       "17"
      ]
     },
     "execution_count": 1,
     "metadata": {},
     "output_type": "execute_result"
    }
   ],
   "source": [
    "# This is a simple arithmetic expression to multiply then add integers\n",
    "(3 * 4) + 5"
   ]
  },
  {
   "cell_type": "code",
   "execution_count": 2,
   "id": "9271eeff",
   "metadata": {
    "scrolled": true
   },
   "outputs": [
    {
     "data": {
      "text/plain": [
       "3.3333333333333335"
      ]
     },
     "execution_count": 2,
     "metadata": {},
     "output_type": "execute_result"
    }
   ],
   "source": [
    "# This will conver 200 minutes to hours by dividing by 60\n",
    "200 / 60"
   ]
  },
  {
   "cell_type": "markdown",
   "id": "f8aa2abf",
   "metadata": {},
   "source": [
    "## Author: \n",
    "Wendy Melyana"
   ]
  }
 ],
 "metadata": {
  "kernelspec": {
   "display_name": "Python 3 (ipykernel)",
   "language": "python",
   "name": "python3"
  },
  "language_info": {
   "codemirror_mode": {
    "name": "ipython",
    "version": 3
   },
   "file_extension": ".py",
   "mimetype": "text/x-python",
   "name": "python",
   "nbconvert_exporter": "python",
   "pygments_lexer": "ipython3",
   "version": "3.10.9"
  }
 },
 "nbformat": 4,
 "nbformat_minor": 5
}
